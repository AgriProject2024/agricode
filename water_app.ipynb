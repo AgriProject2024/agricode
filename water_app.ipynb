{
 "cells": [
  {
   "cell_type": "code",
   "execution_count": 3,
   "id": "3702f0c9-c216-48b5-9be8-c0c2cf0b2062",
   "metadata": {},
   "outputs": [
    {
     "data": {
      "text/plain": [
       "['scaler.joblib']"
      ]
     },
     "execution_count": 3,
     "metadata": {},
     "output_type": "execute_result"
    }
   ],
   "source": [
    "# Import necessary libraries\n",
    "import pandas as pd\n",
    "import numpy as np\n",
    "from sklearn.model_selection import train_test_split\n",
    "from sklearn.preprocessing import StandardScaler\n",
    "from sklearn.svm import SVC\n",
    "from sklearn.metrics import classification_report, confusion_matrix\n",
    "import joblib\n",
    "\n",
    "# Load the dataset\n",
    "data = pd.read_csv('water_requirements_samples.csv')\n",
    "\n",
    "# Define the classification based on water required\n",
    "def classify_water_requirement(water):\n",
    "    if water < 33.33:\n",
    "        return 'Low'\n",
    "    elif water < 66.67:\n",
    "        return 'Medium'\n",
    "    else:\n",
    "        return 'High'\n",
    "\n",
    "# Apply classification function to the Water Required column\n",
    "data['Water Class'] = data['Water Required (ml)'].apply(classify_water_requirement)\n",
    "\n",
    "# Features and target variable\n",
    "X = data[['Temperature (C)', 'Moisture']]\n",
    "y = data['Water Class']\n",
    "\n",
    "# Split the dataset into training and testing sets\n",
    "X_train, X_test, y_train, y_test = train_test_split(X, y, test_size=0.2, random_state=42)\n",
    "\n",
    "# Standardize the feature variables\n",
    "scaler = StandardScaler()\n",
    "X_train = scaler.fit_transform(X_train)\n",
    "X_test = scaler.transform(X_test)\n",
    "\n",
    "# Create an SVM model\n",
    "svm_model = SVC(kernel='linear')  # You can also try 'rbf' or other kernels\n",
    "svm_model.fit(X_train, y_train)\n",
    "\n",
    "# Save the model and the scaler\n",
    "joblib.dump(svm_model, 'svm_water_classification_model.joblib')\n",
    "joblib.dump(scaler, 'scaler.joblib')\n",
    "\n",
    "#"
   ]
  },
  {
   "cell_type": "code",
   "execution_count": 10,
   "id": "12ecb4bf-bf63-421a-bd60-c7cf4f404db8",
   "metadata": {},
   "outputs": [
    {
     "name": "stdout",
     "output_type": "stream",
     "text": [
      "Predicted class for Temperature: 35.1°C and Moisture: 800 is: Medium\n"
     ]
    },
    {
     "name": "stderr",
     "output_type": "stream",
     "text": [
      "D:\\anaconda\\Lib\\site-packages\\sklearn\\base.py:493: UserWarning: X does not have valid feature names, but StandardScaler was fitted with feature names\n",
      "  warnings.warn(\n"
     ]
    }
   ],
   "source": [
    "#Load the model and scaler for testing\n",
    "loaded_model = joblib.load('svm_water_classification_model.joblib')\n",
    "loaded_scaler = joblib.load('scaler.joblib')\n",
    "\n",
    "# Prepare input for prediction (example input)\n",
    "input_temperature = 35.1  # Example temperature\n",
    "input_moisture = 800       # Example moisture\n",
    "input_data = np.array([[input_temperature, input_moisture]])\n",
    "input_scaled = loaded_scaler.transform(input_data)\n",
    "\n",
    "# Predict the class for the single input\n",
    "predicted_class = loaded_model.predict(input_scaled)[0]\n",
    "\n",
    "# Print the predicted class\n",
    "print(f\"Predicted class for Temperature: {input_temperature}°C and Moisture: {input_moisture} is: {predicted_class}\")\n"
   ]
  },
  {
   "cell_type": "code",
   "execution_count": null,
   "id": "f290c187-a365-406f-836d-b68541d59846",
   "metadata": {},
   "outputs": [],
   "source": []
  }
 ],
 "metadata": {
  "kernelspec": {
   "display_name": "Python 3 (ipykernel)",
   "language": "python",
   "name": "python3"
  },
  "language_info": {
   "codemirror_mode": {
    "name": "ipython",
    "version": 3
   },
   "file_extension": ".py",
   "mimetype": "text/x-python",
   "name": "python",
   "nbconvert_exporter": "python",
   "pygments_lexer": "ipython3",
   "version": "3.12.3"
  }
 },
 "nbformat": 4,
 "nbformat_minor": 5
}
